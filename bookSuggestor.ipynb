{
 "cells": [
  {
   "cell_type": "code",
   "execution_count": null,
   "metadata": {
    "scrolled": true
   },
   "outputs": [],
   "source": [
    "import numpy as np\n",
    "import pandas as pd\n",
    "import matplotlib.pyplot as plt\n",
    "from sklearn.cross_validation import train_test_split\n",
    "from sklearn.neighbors import KNeighborsClassifier\n",
    "from sklearn.metrics import accuracy_score\n",
    "import warnings; \n",
    "import seaborn as sns\n",
    "warnings.filterwarnings('ignore')\n",
    "warnings.filterwarnings(action='once')"
   ]
  },
  {
   "cell_type": "code",
   "execution_count": null,
   "metadata": {},
   "outputs": [],
   "source": [
    "books = pd.read_csv('books.csv',sep=';',error_bad_lines=False,encoding=\"latin-1\")\n",
    "users = pd.read_csv('users.csv',sep=';',error_bad_lines=False,encoding=\"latin-1\")\n",
    "rating = pd.read_csv('rating.csv',sep=';',error_bad_lines=False,encoding=\"latin-1\")"
   ]
  },
  {
   "cell_type": "code",
   "execution_count": null,
   "metadata": {},
   "outputs": [],
   "source": [
    "print(books.head())\n",
    "print(rating.head())\n",
    "print(users.head())"
   ]
  },
  {
   "cell_type": "code",
   "execution_count": null,
   "metadata": {
    "collapsed": true
   },
   "outputs": [],
   "source": [
    "books.columns=['ISBN','bookTitle','bookAuthor','yearOfPublication','publisher','imageUrlS','imageUrlM','imageUrlL']\n",
    "rating.columns=['userId','ISBN','bookRating']\n",
    "users.columns=['userId','location','age']"
   ]
  },
  {
   "cell_type": "code",
   "execution_count": null,
   "metadata": {},
   "outputs": [],
   "source": [
    "books.head(5)"
   ]
  },
  {
   "cell_type": "code",
   "execution_count": null,
   "metadata": {},
   "outputs": [],
   "source": [
    "#Checking dTypes and correcting the forged / discrepant entries \n",
    "#I am adjusting the column width to display full text of columns.\n",
    "print(books.dtypes)\n",
    "pd.set_option('display.max_colwidth',-1)"
   ]
  },
  {
   "cell_type": "code",
   "execution_count": null,
   "metadata": {},
   "outputs": [],
   "source": [
    "books.head(5)\n",
    "# Now we are getting the whole name in each cells"
   ]
  },
  {
   "cell_type": "code",
   "execution_count": null,
   "metadata": {},
   "outputs": [],
   "source": [
    "## Checking the yearOfPublication for the books...\n",
    "books.yearOfPublication\n",
    "books.yearOfPublication.unique()\n",
    "## We see there are two incorrect values in year column that is DKPublishingInc and Gallimard"
   ]
  },
  {
   "cell_type": "code",
   "execution_count": null,
   "metadata": {},
   "outputs": [],
   "source": [
    "books.loc[books.yearOfPublication=='DK Publishing Inc']"
   ]
  },
  {
   "cell_type": "code",
   "execution_count": null,
   "metadata": {},
   "outputs": [],
   "source": [
    "books.loc[books.yearOfPublication=='Gallimard']"
   ]
  },
  {
   "cell_type": "code",
   "execution_count": null,
   "metadata": {
    "collapsed": true
   },
   "outputs": [],
   "source": [
    "## Now we need to rectify the mistakes in the csv by interchanging the year of publication and bookAuthor\n",
    "books.loc[books.ISBN=='078946697X','yearOfPublication']=2000\n",
    "books.loc[books.ISBN=='078946697X','bookAuthor']='Michael Teitelbaum'\n",
    "books.loc[books.ISBN=='078946697X','publisher']='DK Publishing Inc'\n",
    "books.loc[books.ISBN=='078946697X','bookTitle']='DK Readers: Creating the X-Men, How It All Began (Level 4: Proficient Readers)'\n",
    "\n",
    "books.loc[books.ISBN=='0789466953','yearOfPublication']=2000\n",
    "books.loc[books.ISBN=='0789466953','bookAuthor']='James Buckley'\n",
    "books.loc[books.ISBN=='0789466953','publisher']='DK Publishing Inc'\n",
    "books.loc[books.ISBN=='0789466953','bookTitle']='DK Readers: Creating the X-Men, How Comic Books Come to Life (Level 4: Proficient Readers)'\n",
    "\n",
    "books.loc[books.ISBN=='2070426769','yearOfPublication']=2003\n",
    "books.loc[books.ISBN=='2070426769','bookAuthor']='Jean-Marie Gustave Le ClÃ?Â©zio'\n",
    "books.loc[books.ISBN=='2070426769','publisher']='Gallimard'\n",
    "books.loc[books.ISBN=='2070426769','bookTitle']=\"Peuple du ciel, suivi de 'Les Bergers\""
   ]
  },
  {
   "cell_type": "code",
   "execution_count": null,
   "metadata": {},
   "outputs": [],
   "source": [
    "books.yearOfPublication.unique()"
   ]
  },
  {
   "cell_type": "code",
   "execution_count": null,
   "metadata": {},
   "outputs": [],
   "source": [
    "books.dtypes"
   ]
  },
  {
   "cell_type": "code",
   "execution_count": null,
   "metadata": {
    "collapsed": true
   },
   "outputs": [],
   "source": [
    "# The datatype of yearOfPublication is object and we need to convert it to INT using the pandas function to_numeric\n",
    "books.yearOfPublication=pd.to_numeric(books.yearOfPublication)"
   ]
  },
  {
   "cell_type": "code",
   "execution_count": null,
   "metadata": {},
   "outputs": [],
   "source": [
    "books.dtypes\n",
    "# Now we see the dtype of year is integer"
   ]
  },
  {
   "cell_type": "code",
   "execution_count": null,
   "metadata": {},
   "outputs": [],
   "source": [
    "users.dtypes"
   ]
  },
  {
   "cell_type": "code",
   "execution_count": null,
   "metadata": {},
   "outputs": [],
   "source": [
    "rating.dtypes"
   ]
  },
  {
   "cell_type": "code",
   "execution_count": null,
   "metadata": {
    "collapsed": true
   },
   "outputs": [],
   "source": [
    "# So now we get to see that all the dtypes that is data types are correct , so part of the cleaning process is done."
   ]
  },
  {
   "cell_type": "code",
   "execution_count": null,
   "metadata": {},
   "outputs": [],
   "source": [
    "books.yearOfPublication.unique().max()"
   ]
  },
  {
   "cell_type": "code",
   "execution_count": null,
   "metadata": {},
   "outputs": [],
   "source": [
    "# So we get to know that the values of yearOfPublication ranges till 2050 . Since he current year is 2018 , we will be discarding\n",
    "# the values that are way too ahead o 2018 since they are hardly of any use to our analysis.\n",
    "books.loc[(books.yearOfPublication>2018) | (books.yearOfPublication==0),'yearOfPublication']=np.NaN\n",
    "books.yearOfPublication.fillna(round(books.yearOfPublication.mean()),inplace=True)\n",
    "books.yearOfPublication=books.yearOfPublication.astype(np.int32)\n",
    "# When inplace=True is passed, the data is renamed in place (it returns nothing)\n",
    "# When inplace=False is passed (this is the default value, so isn't necessary), performs the operation and returns a copy of the object\n",
    "books.yearOfPublication.unique()"
   ]
  },
  {
   "cell_type": "code",
   "execution_count": null,
   "metadata": {},
   "outputs": [],
   "source": [
    "# Checking for the publisher column if there are any empty values\n",
    "print(books.publisher.unique())"
   ]
  },
  {
   "cell_type": "code",
   "execution_count": null,
   "metadata": {},
   "outputs": [],
   "source": [
    "print(books.loc[books.publisher.isnull()])"
   ]
  },
  {
   "cell_type": "code",
   "execution_count": null,
   "metadata": {
    "collapsed": true
   },
   "outputs": [],
   "source": [
    "books.loc[books.ISBN=='193169656X', 'publisher']='noDetailsFound'\n",
    "books.loc[books.ISBN=='1931696993', 'publisher']='noDetailsFound'"
   ]
  },
  {
   "cell_type": "code",
   "execution_count": null,
   "metadata": {},
   "outputs": [],
   "source": [
    "print(books.loc[books.publisher.isnull()])\n",
    "## This comes out to be empty dataframe which means NaN entries have been properly deleted nad replace with noDetailsFound"
   ]
  },
  {
   "cell_type": "code",
   "execution_count": null,
   "metadata": {},
   "outputs": [],
   "source": [
    "print(users.age.unique())"
   ]
  },
  {
   "cell_type": "code",
   "execution_count": null,
   "metadata": {},
   "outputs": [],
   "source": [
    "###### <img src=\"C:\\Users\\saurav\\Desktop\\code_stack_python\\BookRecommend\\ageError.JPG\">\n",
    "# we can see the ages of the users going beyond 120 which is quite rare and avbsurd if we be practical\n",
    "# Moreover there are NaN values for some reasons\n",
    "# Let us consider any age less than 1 and more than 100 as absurd\n",
    "from IPython.display import Image\n",
    "Image(filename='ageError.JPG')"
   ]
  },
  {
   "cell_type": "code",
   "execution_count": null,
   "metadata": {
    "collapsed": true
   },
   "outputs": [],
   "source": [
    "users.loc[(users.age>100)|(users.age<1),'age']=np.nan\n",
    "users.age=users.age.fillna(users.age.mean())\n"
   ]
  },
  {
   "cell_type": "code",
   "execution_count": null,
   "metadata": {},
   "outputs": [],
   "source": [
    "print(sorted(users.age.unique()))"
   ]
  },
  {
   "cell_type": "code",
   "execution_count": null,
   "metadata": {},
   "outputs": [],
   "source": [
    "users.age=users.age.fillna(round(users.age.mean()))\n",
    "print(sorted(users.age.unique()))"
   ]
  },
  {
   "cell_type": "code",
   "execution_count": null,
   "metadata": {},
   "outputs": [],
   "source": [
    "rating.head()"
   ]
  },
  {
   "cell_type": "code",
   "execution_count": null,
   "metadata": {},
   "outputs": [],
   "source": [
    "print(rating.ISBN.shape)\n",
    "print(rating.ISBN.isin(books.ISBN))"
   ]
  },
  {
   "cell_type": "code",
   "execution_count": null,
   "metadata": {
    "collapsed": true
   },
   "outputs": [],
   "source": [
    "# The above output shows thhat there are many ISBN in rating that are out of context and are absent in books.csv\n",
    "# We need to correct this data along with the users.csv"
   ]
  },
  {
   "cell_type": "code",
   "execution_count": null,
   "metadata": {
    "collapsed": true
   },
   "outputs": [],
   "source": [
    "updRating=rating[rating.ISBN.isin(books.ISBN)]\n",
    "updRating=updRating[updRating.userId.isin(users.userId)]"
   ]
  },
  {
   "cell_type": "code",
   "execution_count": null,
   "metadata": {},
   "outputs": [],
   "source": [
    "sns.countplot(data=updRating[updRating.bookRating>=0],x='bookRating')\n",
    "plt.show()"
   ]
  },
  {
   "cell_type": "code",
   "execution_count": null,
   "metadata": {},
   "outputs": [],
   "source": [
    "# We see the recommendation is 0 for over 600000 which is quite abrupt and\n",
    "# therefore a good judgement cant be given\n",
    "# So we should separate the ratings <1 and >=1<=10\n",
    "ratingCorr=updRating[updRating.bookRating>0]\n",
    "ratingErr=updRating[updRating.bookRating==0]\n",
    "sns.countplot(data=ratingCorr,x='bookRating')\n",
    "plt.show()"
   ]
  },
  {
   "cell_type": "code",
   "execution_count": null,
   "metadata": {
    "collapsed": true
   },
   "outputs": [],
   "source": [
    "# Now we will come to the recommendation part where we will be focussing on algorithm to suggets books for the user\n"
   ]
  },
  {
   "cell_type": "code",
   "execution_count": null,
   "metadata": {
    "collapsed": true
   },
   "outputs": [],
   "source": [
    "# There are many recommendation systems to work out with\n",
    "# 1.Popularity\n",
    "# 2.Collaborative Filtering\n",
    "# 3.User CF\n",
    "# 4.Item CF\n",
    "# We will be working with Collaborative Filtering\n",
    "# Considering recommendations from users who have read over 99 books"
   ]
  },
  {
   "cell_type": "code",
   "execution_count": null,
   "metadata": {},
   "outputs": [],
   "source": [
    "countExp=ratingCorr['userId'].value_counts()\n",
    "ratingCorr=ratingCorr[ratingCorr['userId'].isin(countExp[countExp>=100].index)]\n",
    "counts=ratingCorr['bookRating'].value_counts()\n",
    "ratingCorr=ratingCorr[ratingCorr['bookRating'].isin(counts[counts>=100].index)]\n",
    "rating_matrix=ratingCorr.pivot(index='userId',columns='ISBN',values='bookRating')\n",
    "userId=rating_matrix.index\n",
    "ISBN=rating_matrix.columns\n",
    "print(rating_matrix.shape)\n",
    "print(rating_matrix)\n",
    "#for i in rating_matrix:\n",
    "#    if ISBN.all!='NaN':\n",
    "#        print(rating_matrix)"
   ]
  },
  {
   "cell_type": "code",
   "execution_count": null,
   "metadata": {
    "collapsed": true
   },
   "outputs": [],
   "source": [
    "# Many entries are showing NaN, but the thing is we chose only those where rating > 0\n",
    "# But some instances give non zero values such as....\n",
    "from IPython.display import Image\n",
    "Image(filename='finalResult.JPG')"
   ]
  },
  {
   "cell_type": "code",
   "execution_count": null,
   "metadata": {
    "collapsed": true
   },
   "outputs": [],
   "source": []
  }
 ],
 "metadata": {
  "kernelspec": {
   "display_name": "Python 3",
   "language": "python",
   "name": "python3"
  },
  "language_info": {
   "codemirror_mode": {
    "name": "ipython",
    "version": 3
   },
   "file_extension": ".py",
   "mimetype": "text/x-python",
   "name": "python",
   "nbconvert_exporter": "python",
   "pygments_lexer": "ipython3",
   "version": "3.6.3"
  }
 },
 "nbformat": 4,
 "nbformat_minor": 2
}
